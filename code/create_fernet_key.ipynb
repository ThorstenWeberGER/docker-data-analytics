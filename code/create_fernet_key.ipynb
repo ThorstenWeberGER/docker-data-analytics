{
 "cells": [
  {
   "cell_type": "code",
   "execution_count": 3,
   "id": "f7cca7fb",
   "metadata": {},
   "outputs": [
    {
     "name": "stdout",
     "output_type": "stream",
     "text": [
      "Defaulting to user installation because normal site-packages is not writeable\n",
      "Collecting cryptography\n",
      "  Downloading cryptography-46.0.2-cp311-abi3-win_amd64.whl.metadata (5.7 kB)\n",
      "Collecting cffi>=2.0.0 (from cryptography)\n",
      "  Downloading cffi-2.0.0-cp313-cp313-win_amd64.whl.metadata (2.6 kB)\n",
      "Collecting pycparser (from cffi>=2.0.0->cryptography)\n",
      "  Downloading pycparser-2.23-py3-none-any.whl.metadata (993 bytes)\n",
      "Downloading cryptography-46.0.2-cp311-abi3-win_amd64.whl (3.5 MB)\n",
      "   ---------------------------------------- 0.0/3.5 MB ? eta -:--:--\n",
      "   ---------------------------------------- 3.5/3.5 MB 18.5 MB/s  0:00:00\n",
      "Downloading cffi-2.0.0-cp313-cp313-win_amd64.whl (183 kB)\n",
      "Downloading pycparser-2.23-py3-none-any.whl (118 kB)\n",
      "Installing collected packages: pycparser, cffi, cryptography\n",
      "\n",
      "   ---------------------------------------- 0/3 [pycparser]\n",
      "   ------------- -------------------------- 1/3 [cffi]\n",
      "   -------------------------- ------------- 2/3 [cryptography]\n",
      "   -------------------------- ------------- 2/3 [cryptography]\n",
      "   -------------------------- ------------- 2/3 [cryptography]\n",
      "   ---------------------------------------- 3/3 [cryptography]\n",
      "\n",
      "Successfully installed cffi-2.0.0 cryptography-46.0.2 pycparser-2.23\n",
      "Note: you may need to restart the kernel to use updated packages.\n"
     ]
    }
   ],
   "source": [
    "pip install cryptography"
   ]
  },
  {
   "cell_type": "code",
   "execution_count": 4,
   "id": "1086bd08",
   "metadata": {},
   "outputs": [
    {
     "name": "stdout",
     "output_type": "stream",
     "text": [
      "WORAZWmyiDA1clGzK24CXQg6cWf1FzGQg1cPBP72cxY=\n"
     ]
    }
   ],
   "source": [
    "from cryptography.fernet import Fernet\n",
    "fernet_key = Fernet.generate_key().decode()\n",
    "print(fernet_key)"
   ]
  }
 ],
 "metadata": {
  "kernelspec": {
   "display_name": "Python 3",
   "language": "python",
   "name": "python3"
  },
  "language_info": {
   "codemirror_mode": {
    "name": "ipython",
    "version": 3
   },
   "file_extension": ".py",
   "mimetype": "text/x-python",
   "name": "python",
   "nbconvert_exporter": "python",
   "pygments_lexer": "ipython3",
   "version": "3.13.7"
  }
 },
 "nbformat": 4,
 "nbformat_minor": 5
}
